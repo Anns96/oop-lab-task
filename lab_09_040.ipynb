{
  "nbformat": 4,
  "nbformat_minor": 0,
  "metadata": {
    "colab": {
      "provenance": []
    },
    "kernelspec": {
      "name": "python3",
      "display_name": "Python 3"
    },
    "language_info": {
      "name": "python"
    }
  },
  "cells": [
    {
      "cell_type": "code",
      "execution_count": 2,
      "metadata": {
        "id": "Zz2epVVymWSk"
      },
      "outputs": [],
      "source": [
        "class Document:\n",
        "    def __init__(self, title, writer):\n",
        "        self.title = title\n",
        "        self.writer = writer\n",
        "    def display_info(self):\n",
        "        return f\"Title: {self.title}\\nwriter: {self.writer}\"\n",
        "class Book(Document):\n",
        "    def __init__(self, title, writer, genre=None, pages=None):\n",
        "        super().__init__(title, writer)\n",
        "        self.genre = genre\n",
        "        self.pages = pages\n",
        "    def display_info(self):\n",
        "        info = super().display_info()\n",
        "        if self.genre:\n",
        "            info += f\"\\nGenre: {self.genre}\"\n",
        "        if self.pages:\n",
        "            info += f\"\\nPages: {self.pages}\"\n",
        "        return info\n",
        "    def create(cls, title, writer, genre=None, pages=None):\n",
        "        return cls(title, writer, genre, pages)\n",
        "class Article(Document):\n",
        "    def __init__(self, title, writer, journal=None, doi=None):\n",
        "        super().__init__(title, writer)\n",
        "        self.journal = journal\n",
        "        self.doi = doi\n",
        "    def display_info(self):\n",
        "        info = super().display_info()\n",
        "        if self.journal:\n",
        "            info += f\"\\nJournal: {self.journal}\"\n",
        "        if self.doi:\n",
        "            info += f\"\\nDOI: {self.doi}\"\n",
        "        return info\n",
        "    def create(cls, title, writer, journal=None, doi=None):\n",
        "        return cls(title, writer, journal, doi)\n",
        "def save_to_file(document, filename):\n",
        "    with open(filename, 'a') as file:\n",
        "        file.write(document.display_info() + '\\n' + '-' * 40 + '\\n')\n",
        "def retrieve_from_file(filename):\n",
        "    try:\n",
        "        with open(filename, 'r') as file:\n",
        "            content = file.read()\n",
        "        return content\n",
        "    except FileNotFoundError:\n",
        "        return \"File not found.\"\n"
      ]
    }
  ]
}