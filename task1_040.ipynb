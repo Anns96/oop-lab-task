{
  "cells": [
    {
      "cell_type": "code",
      "execution_count": 5,
      "id": "ca4f88e4-2ce0-4999-b48f-e8f9f3251054",
      "metadata": {
        "colab": {
          "base_uri": "https://localhost:8080/"
        },
        "id": "ca4f88e4-2ce0-4999-b48f-e8f9f3251054",
        "outputId": "bda898e4-604d-45ca-f92c-6da969283354"
      },
      "outputs": [
        {
          "output_type": "stream",
          "name": "stdout",
          "text": [
            "Enter number or type 'end' to end 7\n",
            "7 prime number.\n",
            "Enter number or type 'end' to end 5\n",
            "5 prime number.\n",
            "Enter number or type 'end' to end end\n",
            "Program ended.\n"
          ]
        }
      ],
      "source": [
        "def is_prime(number):\n",
        "    if number <= 1:\n",
        "        return False\n",
        "    for i in range(2, number):\n",
        "        if number % i == 0:\n",
        "            return False\n",
        "    return True\n",
        "while True:\n",
        "    usr_input = input(\"Enter number or type 'end' to end \")\n",
        "    if usr_input.lower() == 'end':\n",
        "        print(\"Program ended.\")\n",
        "        break\n",
        "    if usr_input.isdigit():\n",
        "        num = int(usr_input)\n",
        "        if is_prime(num):\n",
        "            print(f\"{num} prime number.\")\n",
        "        else:\n",
        "            print(f\"{num} not prime number.\")\n",
        "    else:\n",
        "        print(\"Invalid input\")\n"
      ]
    },
    {
      "cell_type": "code",
      "source": [],
      "metadata": {
        "id": "b5fILWlALFvw"
      },
      "id": "b5fILWlALFvw",
      "execution_count": null,
      "outputs": []
    }
  ],
  "metadata": {
    "kernelspec": {
      "display_name": "Python 3 (ipykernel)",
      "language": "python",
      "name": "python3"
    },
    "language_info": {
      "codemirror_mode": {
        "name": "ipython",
        "version": 3
      },
      "file_extension": ".py",
      "mimetype": "text/x-python",
      "name": "python",
      "nbconvert_exporter": "python",
      "pygments_lexer": "ipython3",
      "version": "3.11.7"
    },
    "colab": {
      "provenance": []
    }
  },
  "nbformat": 4,
  "nbformat_minor": 5
}