{
  "cells": [
    {
      "cell_type": "code",
      "source": [
        "#task 3\n",
        "# roll no 040"
      ],
      "metadata": {
        "id": "Ui2n-6XMVMEl"
      },
      "id": "Ui2n-6XMVMEl",
      "execution_count": null,
      "outputs": []
    },
    {
      "cell_type": "code",
      "execution_count": 5,
      "id": "f3a6fdfe-5f46-448a-baa9-f8a28b4aa20d",
      "metadata": {
        "colab": {
          "base_uri": "https://localhost:8080/"
        },
        "id": "f3a6fdfe-5f46-448a-baa9-f8a28b4aa20d",
        "outputId": "267eee09-76c7-4850-a6cb-c4635641c649"
      },
      "outputs": [
        {
          "output_type": "stream",
          "name": "stdout",
          "text": [
            "width of rectangle?: 12\n",
            "height of rectangle?: 3\n",
            "Rectangle: 12.0 x 3.0\n",
            "Area=: 36.0\n",
            "Perimeter=: 30.0\n"
          ]
        }
      ],
      "source": [
        "class Rectangle:\n",
        "    def __init__(self, width, height):\n",
        "        self.width = width\n",
        "        self.height = height\n",
        "    def __str__(self):\n",
        "        return f\"Rectangle= {self.width} x {self.height}\"\n",
        "    def area(self):\n",
        "        return self.width * self.height\n",
        "    def perimeter(self):\n",
        "        return 2 * (self.width + self.height)\n",
        "width = float(input(\"width of rectangle?: \"))\n",
        "height = float(input(\"height of rectangle?: \"))\n",
        "rectangle = Rectangle(width, height)\n",
        "print(rectangle)\n",
        "print(f\"Area=: {rectangle.area()}\")\n",
        "print(f\"Perimeter=: {rectangle.perimeter()}\")\n"
      ]
    }
  ],
  "metadata": {
    "kernelspec": {
      "display_name": "Python 3 (ipykernel)",
      "language": "python",
      "name": "python3"
    },
    "language_info": {
      "codemirror_mode": {
        "name": "ipython",
        "version": 3
      },
      "file_extension": ".py",
      "mimetype": "text/x-python",
      "name": "python",
      "nbconvert_exporter": "python",
      "pygments_lexer": "ipython3",
      "version": "3.11.7"
    },
    "colab": {
      "provenance": []
    }
  },
  "nbformat": 4,
  "nbformat_minor": 5
}