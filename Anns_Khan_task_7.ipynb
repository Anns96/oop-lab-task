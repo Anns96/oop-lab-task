{
  "nbformat": 4,
  "nbformat_minor": 0,
  "metadata": {
    "colab": {
      "provenance": []
    },
    "kernelspec": {
      "name": "python3",
      "display_name": "Python 3"
    },
    "language_info": {
      "name": "python"
    }
  },
  "cells": [
    {
      "cell_type": "code",
      "source": [
        "#task 1"
      ],
      "metadata": {
        "id": "lsUELYBsvIi8"
      },
      "execution_count": 6,
      "outputs": []
    },
    {
      "cell_type": "code",
      "source": [
        "class Vehicle:\n",
        "    def __init__(self, make, model):\n",
        "        self.make = make\n",
        "        self.model = model\n",
        "    def display(self):\n",
        "        print(f\"Make Year is {self.make}, Model is {self.model}\")\n",
        "class Car(Vehicle):\n",
        "    def __init__(self, make, model, num_doors):\n",
        "        super().__init__(make, model)\n",
        "        self.num_doors = num_doors\n",
        "    def addition(self):\n",
        "        print(f\"Number of Doors are {self.num_doors}\")\n",
        "class Luxury_Car(Car):\n",
        "    def __init__(self, make, model, num_doors, feature):\n",
        "        super().__init__(make, model, num_doors)\n",
        "        self.feature = feature\n",
        "    def addition(self):\n",
        "        super().addition()\n",
        "        print(f\"Luxury Features are {', '.join(self.feature)}\")"
      ],
      "metadata": {
        "id": "TE7cizJH0UHx"
      },
      "execution_count": 9,
      "outputs": []
    }
  ]
}