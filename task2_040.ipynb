{
  "cells": [
    {
      "cell_type": "markdown",
      "id": "839dd13d-c817-469c-b9d1-9507a06ffe73",
      "metadata": {
        "id": "839dd13d-c817-469c-b9d1-9507a06ffe73"
      },
      "source": [
        "Class: A class is a blueprint or a template for creating objects. It defines a set of attributes and methods that the created objects (instances) will have.\n",
        "\n",
        "Object: An object is an instance of a class. When a class is instantiated, it creates an object that contains the data defined by the class. Each object can have different values for its attributes, even though they share the same structure defined by the class."
      ]
    },
    {
      "cell_type": "code",
      "execution_count": 10,
      "id": "b247445b-6901-4c91-a3f0-094062c42801",
      "metadata": {
        "colab": {
          "base_uri": "https://localhost:8080/"
        },
        "id": "b247445b-6901-4c91-a3f0-094062c42801",
        "outputId": "12a07213-44a6-4da8-c738-0d3c6fb52376"
      },
      "outputs": [
        {
          "output_type": "stream",
          "name": "stdout",
          "text": [
            "shirt\n",
            "large\n",
            "This container has a shirt and its a large size\n"
          ]
        }
      ],
      "source": [
        "class Container:\n",
        "    def __init__(self, content, dimensions):\n",
        "        self.content = content\n",
        "        self.dimensions = dimensions\n",
        "    def display(self):\n",
        "        print(f'This container has a {self.content} and its a {self.dimensions} size')\n",
        "container007 = Container('shirt', 'large')\n",
        "print(container007.content)\n",
        "print(container007.dimensions)\n",
        "container007.display()\n"
      ]
    },
    {
      "cell_type": "markdown",
      "id": "f3b3ed80-9a6e-4401-994f-53e2e6570eb4",
      "metadata": {
        "id": "f3b3ed80-9a6e-4401-994f-53e2e6570eb4"
      },
      "source": [
        "Constructor Method (__init__): The __init__ method is a special method in Python, known as the constructor. It is automatically called when a new instance (object) of a class is created. This method is used to initialize the object's attributes with the values passed during instantiation.\n",
        "\n",
        "__str__() Function: The __str__() method is another special method in Python. It is used to define a string representation of an object. When you call print() on an object or use str(), the __str__() method is invoked to return a user-friendly string that describes the object."
      ]
    },
    {
      "cell_type": "code",
      "execution_count": 11,
      "id": "2d68fa59-d62d-4a14-a133-34e9d6291311",
      "metadata": {
        "colab": {
          "base_uri": "https://localhost:8080/"
        },
        "id": "2d68fa59-d62d-4a14-a133-34e9d6291311",
        "outputId": "9ca03263-e04d-47a7-ca75-6e96f80309e2"
      },
      "outputs": [
        {
          "output_type": "stream",
          "name": "stdout",
          "text": [
            "This container has a shirt of large size.\n"
          ]
        }
      ],
      "source": [
        "class container:\n",
        "    def __init__(self, content, dimensions):\n",
        "        self.content = content\n",
        "        self.dimensions = dimensions\n",
        "    def __str__(self):\n",
        "        return f'This container has a {self.content} of {self.dimensions} size.'\n",
        "container69 = container('shirt', 'large')\n",
        "print(container69)"
      ]
    },
    {
      "cell_type": "code",
      "execution_count": null,
      "id": "3986edfa-ede0-4423-be86-d93d9f301a3e",
      "metadata": {
        "id": "3986edfa-ede0-4423-be86-d93d9f301a3e"
      },
      "outputs": [],
      "source": []
    }
  ],
  "metadata": {
    "kernelspec": {
      "display_name": "Python 3 (ipykernel)",
      "language": "python",
      "name": "python3"
    },
    "language_info": {
      "codemirror_mode": {
        "name": "ipython",
        "version": 3
      },
      "file_extension": ".py",
      "mimetype": "text/x-python",
      "name": "python",
      "nbconvert_exporter": "python",
      "pygments_lexer": "ipython3",
      "version": "3.11.7"
    },
    "colab": {
      "provenance": []
    }
  },
  "nbformat": 4,
  "nbformat_minor": 5
}