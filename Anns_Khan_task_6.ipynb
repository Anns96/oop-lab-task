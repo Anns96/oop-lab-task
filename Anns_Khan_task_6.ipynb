{
  "nbformat": 4,
  "nbformat_minor": 0,
  "metadata": {
    "colab": {
      "provenance": []
    },
    "kernelspec": {
      "name": "python3",
      "display_name": "Python 3"
    },
    "language_info": {
      "name": "python"
    }
  },
  "cells": [
    {
      "cell_type": "code",
      "execution_count": null,
      "metadata": {
        "id": "62JQkvVsvHC2"
      },
      "outputs": [],
      "source": [
        "# name = Anns Khan\n",
        "# roll no = SU92-BSAIM-S24-040\n",
        "# task 6"
      ]
    },
    {
      "cell_type": "code",
      "source": [
        "class Course:\n",
        "    def __init__(self, course_code, course_name):\n",
        "        self.course_code = course_code\n",
        "        self.course_name = course_name\n",
        "    def displayinfo(self):\n",
        "        print(f\"Course Code is: {self.course_code}, Course Name is: {self.course_name}\")\n",
        "class Undergraduate_Course(Course):\n",
        "    def __init__(self, course_code, course_name, year_level):\n",
        "        super().__init__(course_code, course_name)\n",
        "        self.year_level = year_level\n",
        "    def addition(self):\n",
        "        print(f\"Year Level: {self.year_level}\")\n",
        "class Graduate_Course(Course):\n",
        "    def __init__(self, course_code, course_name, research_area):\n",
        "        super().__init__(course_code, course_name)\n",
        "        self.research_area = research_area\n",
        "    def addition(self):\n",
        "        print(f\"Research : {self.research_area}\")\n",
        "def register_course():\n",
        "    course_type = input(\"type of course example:(Undergraduate/Graduate)? \").strip().lower()\n",
        "    course_code = input(\"course code? \")\n",
        "    course_name = input(\"course name? \")\n",
        "    if course_type == \"undergraduate\":\n",
        "        year_level = input(\"Enter year (1, 2, 3, or 4)?: \")\n",
        "        course = Undergraduate_Course(course_code, course_name, year_level)\n",
        "    elif course_type == \"graduate\":\n",
        "        research_area = input(\"research: \")\n",
        "        course = Graduate_Course(course_code, course_name, research_area)\n",
        "    else:\n",
        "        print(\"Wrong Input\")\n",
        "        return"
      ],
      "metadata": {
        "id": "lsUELYBsvIi8"
      },
      "execution_count": 6,
      "outputs": []
    }
  ]
}