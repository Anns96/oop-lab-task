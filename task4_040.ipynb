{
  "cells": [
    {
      "cell_type": "code",
      "source": [
        "# roll no 040"
      ],
      "metadata": {
        "id": "Rd84URfOYgwQ"
      },
      "id": "Rd84URfOYgwQ",
      "execution_count": null,
      "outputs": []
    },
    {
      "cell_type": "code",
      "execution_count": 3,
      "id": "abbcf7dc-9e66-4620-bcd1-69d191bb2d2a",
      "metadata": {
        "colab": {
          "base_uri": "https://localhost:8080/"
        },
        "id": "abbcf7dc-9e66-4620-bcd1-69d191bb2d2a",
        "outputId": "ed7c16ab-df13-45a9-ab24-4dd29c860fd8"
      },
      "outputs": [
        {
          "output_type": "stream",
          "name": "stdout",
          "text": [
            "title of book?anni\n",
            "author of the book?asz\n",
            "publication year of book?212\n",
            "Title= anni, Author= asz, Publication Year= 212\n"
          ]
        }
      ],
      "source": [
        "class Book:\n",
        "    def __init__(self, title, author, publication_year):\n",
        "        self.title = title\n",
        "        self.author = author\n",
        "        self.publication_year = publication_year\n",
        "    def __str__(self):\n",
        "        return f\"Title= {self.title}, Author= {self.author}, Publication Year= {self.publication_year}\"\n",
        "title = input(\"title of book?\")\n",
        "author = input(\"author of the book?\")\n",
        "publication_year = int(input(\"publication year of book?\"))\n",
        "book = Book(title, author, publication_year)\n",
        "print(book)"
      ]
    }
  ],
  "metadata": {
    "kernelspec": {
      "display_name": "Python 3 (ipykernel)",
      "language": "python",
      "name": "python3"
    },
    "language_info": {
      "codemirror_mode": {
        "name": "ipython",
        "version": 3
      },
      "file_extension": ".py",
      "mimetype": "text/x-python",
      "name": "python",
      "nbconvert_exporter": "python",
      "pygments_lexer": "ipython3",
      "version": "3.11.7"
    },
    "colab": {
      "provenance": []
    }
  },
  "nbformat": 4,
  "nbformat_minor": 5
}