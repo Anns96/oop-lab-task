{
  "nbformat": 4,
  "nbformat_minor": 0,
  "metadata": {
    "colab": {
      "provenance": []
    },
    "kernelspec": {
      "name": "python3",
      "display_name": "Python 3"
    },
    "language_info": {
      "name": "python"
    }
  },
  "cells": [
    {
      "cell_type": "code",
      "execution_count": null,
      "metadata": {
        "id": "62JQkvVsvHC2"
      },
      "outputs": [],
      "source": [
        "# name = Anns Khan\n",
        "# class = BsAi 2A\n",
        "# roll no = SU92-BSAIM-S24-040\n",
        "# task 5"
      ]
    },
    {
      "cell_type": "code",
      "source": [
        "class Item:\n",
        "    def __init__(self, cover, writter):\n",
        "        self.cover = cover\n",
        "        self.writter = writter\n",
        "    def display_info(self):\n",
        "        print(f\"Cover: {self.cover}, writter: {self.writter}\")\n",
        "class Book(Item):\n",
        "    def __init__(self, cover, writter, pages):\n",
        "        super().__init__(cover, writter)\n",
        "        self.pages = pages\n",
        "    def addition(self):\n",
        "        print(f\"Page: {self.pages}\")\n",
        "class Magazine(Item):\n",
        "    def __init__(self, cover, writter, issue_number):\n",
        "        super().__init__(cover, writter)\n",
        "        self.issue_number = issue_number\n",
        "    def addition(self):\n",
        "        print(f\"Masla Number: {self.issue_number}\")"
      ],
      "metadata": {
        "id": "lsUELYBsvIi8"
      },
      "execution_count": 4,
      "outputs": []
    }
  ]
}